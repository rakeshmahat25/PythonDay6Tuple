{
 "cells": [
  {
   "cell_type": "markdown",
   "id": "15608618",
   "metadata": {},
   "source": [
    "# Tuple and Set"
   ]
  },
  {
   "cell_type": "code",
   "execution_count": 32,
   "id": "e9281108",
   "metadata": {},
   "outputs": [],
   "source": [
    "fruits =(\"Apple\",\"Mango\",\"Orange\",\"Banana\")\n"
   ]
  },
  {
   "cell_type": "code",
   "execution_count": 2,
   "id": "9c7c20a0",
   "metadata": {},
   "outputs": [
    {
     "data": {
      "text/plain": [
       "('apple', 'Mango', 'Orange', 'Banana')"
      ]
     },
     "execution_count": 2,
     "metadata": {},
     "output_type": "execute_result"
    }
   ],
   "source": [
    "fruits\n"
   ]
  },
  {
   "cell_type": "code",
   "execution_count": 3,
   "id": "5e4c17fd",
   "metadata": {},
   "outputs": [],
   "source": [
    "# list denoted by [] and tuple denoted by ()\n",
    "\n",
    "# tuple ordered but not mutable ( list are ordered and mutable)"
   ]
  },
  {
   "cell_type": "code",
   "execution_count": 4,
   "id": "ffb0d060",
   "metadata": {},
   "outputs": [
    {
     "ename": "TypeError",
     "evalue": "'tuple' object does not support item assignment",
     "output_type": "error",
     "traceback": [
      "\u001b[1;31m---------------------------------------------------------------------------\u001b[0m",
      "\u001b[1;31mTypeError\u001b[0m                                 Traceback (most recent call last)",
      "\u001b[1;32m~\\AppData\\Local\\Temp/ipykernel_13108/2320322962.py\u001b[0m in \u001b[0;36m<module>\u001b[1;34m\u001b[0m\n\u001b[1;32m----> 1\u001b[1;33m \u001b[0mfruits\u001b[0m\u001b[1;33m[\u001b[0m\u001b[1;36m2\u001b[0m\u001b[1;33m]\u001b[0m\u001b[1;33m=\u001b[0m\u001b[1;34m\"Gava\"\u001b[0m\u001b[1;33m\u001b[0m\u001b[1;33m\u001b[0m\u001b[0m\n\u001b[0m",
      "\u001b[1;31mTypeError\u001b[0m: 'tuple' object does not support item assignment"
     ]
    }
   ],
   "source": [
    "fruits[2]=\"Gava\""
   ]
  },
  {
   "cell_type": "markdown",
   "id": "137dbf6f",
   "metadata": {},
   "source": [
    "# SET"
   ]
  },
  {
   "cell_type": "code",
   "execution_count": 5,
   "id": "602d6f99",
   "metadata": {},
   "outputs": [],
   "source": [
    "# sets are denoted {} \n"
   ]
  },
  {
   "cell_type": "code",
   "execution_count": 12,
   "id": "09034f7f",
   "metadata": {},
   "outputs": [],
   "source": [
    "numbers ={1,2,3,4,3,0,2,2,3,5,4,666,7}"
   ]
  },
  {
   "cell_type": "code",
   "execution_count": 13,
   "id": "d81426bb",
   "metadata": {},
   "outputs": [
    {
     "data": {
      "text/plain": [
       "{0, 1, 2, 3, 4, 5, 7, 666}"
      ]
     },
     "execution_count": 13,
     "metadata": {},
     "output_type": "execute_result"
    }
   ],
   "source": [
    "numbers"
   ]
  },
  {
   "cell_type": "code",
   "execution_count": 8,
   "id": "0d11d3eb",
   "metadata": {},
   "outputs": [],
   "source": [
    "# set Functions\n"
   ]
  },
  {
   "cell_type": "code",
   "execution_count": 9,
   "id": "d0bb8fee",
   "metadata": {},
   "outputs": [],
   "source": [
    "top_5 = {'Ram','Hari',\"shyam\"}"
   ]
  },
  {
   "cell_type": "code",
   "execution_count": 10,
   "id": "1461d5f3",
   "metadata": {},
   "outputs": [],
   "source": [
    "top_6 = {\"Hari\",\"krishna\"}"
   ]
  },
  {
   "cell_type": "code",
   "execution_count": 14,
   "id": "7b5ba412",
   "metadata": {},
   "outputs": [
    {
     "data": {
      "text/plain": [
       "{'Hari'}"
      ]
     },
     "execution_count": 14,
     "metadata": {},
     "output_type": "execute_result"
    }
   ],
   "source": [
    "top_5.intersection(top_6)"
   ]
  },
  {
   "cell_type": "code",
   "execution_count": 18,
   "id": "1814a8c4",
   "metadata": {},
   "outputs": [],
   "source": [
    "Color ={6, \"red\",\"[1,2,3]\"}"
   ]
  },
  {
   "cell_type": "code",
   "execution_count": 19,
   "id": "d39fbfd1",
   "metadata": {},
   "outputs": [
    {
     "data": {
      "text/plain": [
       "{6, '[1,2,3]', 'red'}"
      ]
     },
     "execution_count": 19,
     "metadata": {},
     "output_type": "execute_result"
    }
   ],
   "source": [
    "Color"
   ]
  },
  {
   "cell_type": "code",
   "execution_count": 20,
   "id": "91c00d22",
   "metadata": {},
   "outputs": [
    {
     "data": {
      "text/plain": [
       "set"
      ]
     },
     "execution_count": 20,
     "metadata": {},
     "output_type": "execute_result"
    }
   ],
   "source": [
    "type(Color)"
   ]
  },
  {
   "cell_type": "code",
   "execution_count": 21,
   "id": "d28327f3",
   "metadata": {},
   "outputs": [
    {
     "data": {
      "text/plain": [
       "['__and__',\n",
       " '__class__',\n",
       " '__class_getitem__',\n",
       " '__contains__',\n",
       " '__delattr__',\n",
       " '__dir__',\n",
       " '__doc__',\n",
       " '__eq__',\n",
       " '__format__',\n",
       " '__ge__',\n",
       " '__getattribute__',\n",
       " '__gt__',\n",
       " '__hash__',\n",
       " '__iand__',\n",
       " '__init__',\n",
       " '__init_subclass__',\n",
       " '__ior__',\n",
       " '__isub__',\n",
       " '__iter__',\n",
       " '__ixor__',\n",
       " '__le__',\n",
       " '__len__',\n",
       " '__lt__',\n",
       " '__ne__',\n",
       " '__new__',\n",
       " '__or__',\n",
       " '__rand__',\n",
       " '__reduce__',\n",
       " '__reduce_ex__',\n",
       " '__repr__',\n",
       " '__ror__',\n",
       " '__rsub__',\n",
       " '__rxor__',\n",
       " '__setattr__',\n",
       " '__sizeof__',\n",
       " '__str__',\n",
       " '__sub__',\n",
       " '__subclasshook__',\n",
       " '__xor__',\n",
       " 'add',\n",
       " 'clear',\n",
       " 'copy',\n",
       " 'difference',\n",
       " 'difference_update',\n",
       " 'discard',\n",
       " 'intersection',\n",
       " 'intersection_update',\n",
       " 'isdisjoint',\n",
       " 'issubset',\n",
       " 'issuperset',\n",
       " 'pop',\n",
       " 'remove',\n",
       " 'symmetric_difference',\n",
       " 'symmetric_difference_update',\n",
       " 'union',\n",
       " 'update']"
      ]
     },
     "execution_count": 21,
     "metadata": {},
     "output_type": "execute_result"
    }
   ],
   "source": [
    "dir(set)"
   ]
  },
  {
   "cell_type": "code",
   "execution_count": 26,
   "id": "63ff0bb9",
   "metadata": {},
   "outputs": [
    {
     "data": {
      "text/plain": [
       "'Ram'"
      ]
     },
     "execution_count": 26,
     "metadata": {},
     "output_type": "execute_result"
    }
   ],
   "source": [
    "top_5.pop()"
   ]
  },
  {
   "cell_type": "code",
   "execution_count": 27,
   "id": "21bf918c",
   "metadata": {},
   "outputs": [
    {
     "data": {
      "text/plain": [
       "set()"
      ]
     },
     "execution_count": 27,
     "metadata": {},
     "output_type": "execute_result"
    }
   ],
   "source": [
    "top_5"
   ]
  },
  {
   "cell_type": "code",
   "execution_count": 28,
   "id": "3cb644d9",
   "metadata": {},
   "outputs": [
    {
     "data": {
      "text/plain": [
       "['__add__',\n",
       " '__class__',\n",
       " '__class_getitem__',\n",
       " '__contains__',\n",
       " '__delattr__',\n",
       " '__dir__',\n",
       " '__doc__',\n",
       " '__eq__',\n",
       " '__format__',\n",
       " '__ge__',\n",
       " '__getattribute__',\n",
       " '__getitem__',\n",
       " '__getnewargs__',\n",
       " '__gt__',\n",
       " '__hash__',\n",
       " '__init__',\n",
       " '__init_subclass__',\n",
       " '__iter__',\n",
       " '__le__',\n",
       " '__len__',\n",
       " '__lt__',\n",
       " '__mul__',\n",
       " '__ne__',\n",
       " '__new__',\n",
       " '__reduce__',\n",
       " '__reduce_ex__',\n",
       " '__repr__',\n",
       " '__rmul__',\n",
       " '__setattr__',\n",
       " '__sizeof__',\n",
       " '__str__',\n",
       " '__subclasshook__',\n",
       " 'count',\n",
       " 'index']"
      ]
     },
     "execution_count": 28,
     "metadata": {},
     "output_type": "execute_result"
    }
   ],
   "source": [
    "dir(tuple)"
   ]
  },
  {
   "cell_type": "code",
   "execution_count": 29,
   "id": "59973b57",
   "metadata": {},
   "outputs": [
    {
     "data": {
      "text/plain": [
       "'Orange'"
      ]
     },
     "execution_count": 29,
     "metadata": {},
     "output_type": "execute_result"
    }
   ],
   "source": [
    "fruits[2]"
   ]
  },
  {
   "cell_type": "code",
   "execution_count": 34,
   "id": "1efc2d5b",
   "metadata": {},
   "outputs": [
    {
     "data": {
      "text/plain": [
       "1"
      ]
     },
     "execution_count": 34,
     "metadata": {},
     "output_type": "execute_result"
    }
   ],
   "source": [
    "fruits.count(\"Apple\")"
   ]
  },
  {
   "cell_type": "code",
   "execution_count": 35,
   "id": "96f27eeb",
   "metadata": {},
   "outputs": [],
   "source": [
    "sets ={1,2,3,3,4,3,3,4,5,64,4,44}"
   ]
  },
  {
   "cell_type": "code",
   "execution_count": 37,
   "id": "2c0510f7",
   "metadata": {},
   "outputs": [
    {
     "data": {
      "text/plain": [
       "1"
      ]
     },
     "execution_count": 37,
     "metadata": {},
     "output_type": "execute_result"
    }
   ],
   "source": [
    "sets.pop()"
   ]
  },
  {
   "cell_type": "code",
   "execution_count": 11,
   "id": "3c5e3683",
   "metadata": {},
   "outputs": [],
   "source": [
    "list1 =[1,3,4,4,54,4,4,43,34,4,33,3,33,3,66,344,88]"
   ]
  },
  {
   "cell_type": "code",
   "execution_count": 45,
   "id": "d8eb5b5a",
   "metadata": {},
   "outputs": [
    {
     "data": {
      "text/plain": [
       "[1, 3, 4, 4, 54, 4, 4, 43, 34, 4, 33, 3, 33, 3, 66, 344, 88]"
      ]
     },
     "execution_count": 45,
     "metadata": {},
     "output_type": "execute_result"
    }
   ],
   "source": [
    "list1"
   ]
  },
  {
   "cell_type": "code",
   "execution_count": 54,
   "id": "168a9db9",
   "metadata": {},
   "outputs": [],
   "source": [
    "a =set(list1)\n"
   ]
  },
  {
   "cell_type": "code",
   "execution_count": 47,
   "id": "3e5ae6b5",
   "metadata": {},
   "outputs": [
    {
     "data": {
      "text/plain": [
       "set"
      ]
     },
     "execution_count": 47,
     "metadata": {},
     "output_type": "execute_result"
    }
   ],
   "source": [
    "type(a)"
   ]
  },
  {
   "cell_type": "code",
   "execution_count": 55,
   "id": "5bf5fe5c",
   "metadata": {},
   "outputs": [
    {
     "data": {
      "text/plain": [
       "[1, 34, 3, 4, 33, 66, 344, 43, 54, 88]"
      ]
     },
     "execution_count": 55,
     "metadata": {},
     "output_type": "execute_result"
    }
   ],
   "source": [
    "list(set(a))"
   ]
  },
  {
   "cell_type": "code",
   "execution_count": 56,
   "id": "f50aaee7",
   "metadata": {},
   "outputs": [
    {
     "data": {
      "text/plain": [
       "set"
      ]
     },
     "execution_count": 56,
     "metadata": {},
     "output_type": "execute_result"
    }
   ],
   "source": [
    "type(a)"
   ]
  },
  {
   "cell_type": "code",
   "execution_count": null,
   "id": "fb6ea420",
   "metadata": {},
   "outputs": [],
   "source": []
  },
  {
   "cell_type": "code",
   "execution_count": 60,
   "id": "8a1fba12",
   "metadata": {},
   "outputs": [],
   "source": [
    "b =list(a)"
   ]
  },
  {
   "cell_type": "code",
   "execution_count": 64,
   "id": "9cdd5b49",
   "metadata": {},
   "outputs": [
    {
     "data": {
      "text/plain": [
       "[344, 88, 66, 54, 43, 34, 33, 4, 3, 1]"
      ]
     },
     "execution_count": 64,
     "metadata": {},
     "output_type": "execute_result"
    }
   ],
   "source": [
    "b.reverse()\n",
    "b"
   ]
  },
  {
   "cell_type": "code",
   "execution_count": 25,
   "id": "2641ef21",
   "metadata": {},
   "outputs": [],
   "source": [
    "a =\"100\"\n",
    "b =int(a)"
   ]
  },
  {
   "cell_type": "code",
   "execution_count": 24,
   "id": "9e351f17",
   "metadata": {},
   "outputs": [
    {
     "data": {
      "text/plain": [
       "str"
      ]
     },
     "execution_count": 24,
     "metadata": {},
     "output_type": "execute_result"
    }
   ],
   "source": [
    "type(a)"
   ]
  },
  {
   "cell_type": "code",
   "execution_count": 26,
   "id": "3cf62dd5",
   "metadata": {},
   "outputs": [
    {
     "data": {
      "text/plain": [
       "int"
      ]
     },
     "execution_count": 26,
     "metadata": {},
     "output_type": "execute_result"
    }
   ],
   "source": [
    "type(b)"
   ]
  },
  {
   "cell_type": "code",
   "execution_count": 36,
   "id": "3be63a04",
   "metadata": {},
   "outputs": [],
   "source": [
    "suru ={\"Name\":\"Biscuit\",\"Price\":50, \"Recipent\":[\"Wheat\", \"Flour\", \"Milk\", \"Water\", \"Chemical\"]}"
   ]
  },
  {
   "cell_type": "code",
   "execution_count": 28,
   "id": "df131c8c",
   "metadata": {},
   "outputs": [
    {
     "data": {
      "text/plain": [
       "{'Name': 'Biscuit',\n",
       " 'Price': 50,\n",
       " 'Recipent': '[Wheat, Flour, Milk, Water, Chemical]'}"
      ]
     },
     "execution_count": 28,
     "metadata": {},
     "output_type": "execute_result"
    }
   ],
   "source": [
    "suru"
   ]
  },
  {
   "cell_type": "code",
   "execution_count": 33,
   "id": "5f9789ec",
   "metadata": {},
   "outputs": [
    {
     "data": {
      "text/plain": [
       "'[Wheat, Flour, Milk, Water, Chemical]'"
      ]
     },
     "execution_count": 33,
     "metadata": {},
     "output_type": "execute_result"
    }
   ],
   "source": [
    "suru[\"Recipent\"]"
   ]
  },
  {
   "cell_type": "code",
   "execution_count": 37,
   "id": "de9a9b42",
   "metadata": {},
   "outputs": [
    {
     "data": {
      "text/plain": [
       "['Wheat', 'Flour', 'Milk', 'Water', 'Chemical']"
      ]
     },
     "execution_count": 37,
     "metadata": {},
     "output_type": "execute_result"
    }
   ],
   "source": [
    "suru[\"Recipent\"]"
   ]
  },
  {
   "cell_type": "code",
   "execution_count": 38,
   "id": "26cc5ff3",
   "metadata": {},
   "outputs": [
    {
     "data": {
      "text/plain": [
       "'Milk'"
      ]
     },
     "execution_count": 38,
     "metadata": {},
     "output_type": "execute_result"
    }
   ],
   "source": [
    "suru[\"Recipent\"][2]"
   ]
  },
  {
   "cell_type": "code",
   "execution_count": 39,
   "id": "7a72055c",
   "metadata": {},
   "outputs": [],
   "source": [
    "#tuple \n"
   ]
  },
  {
   "cell_type": "code",
   "execution_count": 40,
   "id": "ffe69338",
   "metadata": {},
   "outputs": [],
   "source": [
    "hello =(\"Ram\",\"Shyam\",[\"Ram\",\"shyam\",\"Hari\"])"
   ]
  },
  {
   "cell_type": "code",
   "execution_count": 41,
   "id": "1b686966",
   "metadata": {},
   "outputs": [
    {
     "data": {
      "text/plain": [
       "('Ram', 'Shyam', ['Ram', 'shyam', 'Hari'])"
      ]
     },
     "execution_count": 41,
     "metadata": {},
     "output_type": "execute_result"
    }
   ],
   "source": [
    "hello"
   ]
  },
  {
   "cell_type": "code",
   "execution_count": 42,
   "id": "8bddef51",
   "metadata": {},
   "outputs": [],
   "source": [
    "hello[2][2]= \"Rakesh\""
   ]
  },
  {
   "cell_type": "code",
   "execution_count": 43,
   "id": "55553bb6",
   "metadata": {},
   "outputs": [
    {
     "data": {
      "text/plain": [
       "('Ram', 'Shyam', ['Ram', 'shyam', 'Rakesh'])"
      ]
     },
     "execution_count": 43,
     "metadata": {},
     "output_type": "execute_result"
    }
   ],
   "source": [
    "hello"
   ]
  },
  {
   "cell_type": "code",
   "execution_count": null,
   "id": "c60a27cc",
   "metadata": {},
   "outputs": [],
   "source": [
    "mutable inside the tuple ( tuple not mutable) if mutable item is in Tuple\n"
   ]
  }
 ],
 "metadata": {
  "kernelspec": {
   "display_name": "Python 3 (ipykernel)",
   "language": "python",
   "name": "python3"
  },
  "language_info": {
   "codemirror_mode": {
    "name": "ipython",
    "version": 3
   },
   "file_extension": ".py",
   "mimetype": "text/x-python",
   "name": "python",
   "nbconvert_exporter": "python",
   "pygments_lexer": "ipython3",
   "version": "3.9.7"
  }
 },
 "nbformat": 4,
 "nbformat_minor": 5
}
